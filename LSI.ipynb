{
 "cells": [
  {
   "cell_type": "markdown",
   "metadata": {},
   "source": [
    "# Latent Semantic Indexing  (潜在意味インデクシング)"
   ]
  },
  {
   "cell_type": "markdown",
   "metadata": {},
   "source": [
    "単語文章行列`C`を、SVDを用いて小さい階数の行列で近似する。\n",
    "クエリも同様に定数表現に書き換えることにより文章の類似度が計算可能となる。\n",
    "この処理はLSIといsて知られている。"
   ]
  },
  {
   "cell_type": "code",
   "execution_count": 219,
   "metadata": {
    "collapsed": true
   },
   "outputs": [],
   "source": [
    "import numpy as np\n",
    "import scipy\n",
    "import pandas as pd\n",
    "import matplotlib.pyplot as plt\n",
    "from matplotlib import font_manager\n",
    "%matplotlib inline"
   ]
  },
  {
   "cell_type": "code",
   "execution_count": 230,
   "metadata": {
    "collapsed": true
   },
   "outputs": [],
   "source": [
    "font = \"/Library/Fonts/OsakaMono.ttf\"\n",
    "# http://ossipedia.ipa.go.jp/ipafont/index.html\n",
    "prop = font_manager.FontProperties(fname=font)\n"
   ]
  },
  {
   "cell_type": "code",
   "execution_count": null,
   "metadata": {
    "collapsed": true
   },
   "outputs": [],
   "source": []
  },
  {
   "cell_type": "code",
   "execution_count": 34,
   "metadata": {
    "collapsed": true
   },
   "outputs": [],
   "source": [
    "C = np.array([\n",
    "    [1, 0, 1, 0, 0, 0],\n",
    "    [0, 1, 0, 0, 0, 0],\n",
    "    [1, 1, 0, 0, 0, 0],\n",
    "    [1, 0, 0, 1, 1, 0],\n",
    "    [0, 0, 0, 1, 0, 1]\n",
    "])\n"
   ]
  },
  {
   "cell_type": "code",
   "execution_count": 59,
   "metadata": {
    "collapsed": false
   },
   "outputs": [
    {
     "data": {
      "text/html": [
       "<div>\n",
       "<table border=\"1\" class=\"dataframe\">\n",
       "  <thead>\n",
       "    <tr style=\"text-align: right;\">\n",
       "      <th></th>\n",
       "      <th>d1</th>\n",
       "      <th>d2</th>\n",
       "      <th>d3</th>\n",
       "      <th>d4</th>\n",
       "      <th>d5</th>\n",
       "      <th>d6</th>\n",
       "    </tr>\n",
       "  </thead>\n",
       "  <tbody>\n",
       "    <tr>\n",
       "      <th>玉ねぎ</th>\n",
       "      <td>1</td>\n",
       "      <td>0</td>\n",
       "      <td>1</td>\n",
       "      <td>0</td>\n",
       "      <td>0</td>\n",
       "      <td>0</td>\n",
       "    </tr>\n",
       "    <tr>\n",
       "      <th>きのこ</th>\n",
       "      <td>0</td>\n",
       "      <td>1</td>\n",
       "      <td>0</td>\n",
       "      <td>0</td>\n",
       "      <td>0</td>\n",
       "      <td>0</td>\n",
       "    </tr>\n",
       "    <tr>\n",
       "      <th>鶏肉</th>\n",
       "      <td>1</td>\n",
       "      <td>1</td>\n",
       "      <td>0</td>\n",
       "      <td>0</td>\n",
       "      <td>0</td>\n",
       "      <td>0</td>\n",
       "    </tr>\n",
       "    <tr>\n",
       "      <th>卵</th>\n",
       "      <td>1</td>\n",
       "      <td>0</td>\n",
       "      <td>0</td>\n",
       "      <td>1</td>\n",
       "      <td>1</td>\n",
       "      <td>0</td>\n",
       "    </tr>\n",
       "    <tr>\n",
       "      <th>ホウレンソウ</th>\n",
       "      <td>0</td>\n",
       "      <td>0</td>\n",
       "      <td>0</td>\n",
       "      <td>1</td>\n",
       "      <td>0</td>\n",
       "      <td>1</td>\n",
       "    </tr>\n",
       "  </tbody>\n",
       "</table>\n",
       "</div>"
      ],
      "text/plain": [
       "        d1  d2  d3  d4  d5  d6\n",
       "玉ねぎ      1   0   1   0   0   0\n",
       "きのこ      0   1   0   0   0   0\n",
       "鶏肉       1   1   0   0   0   0\n",
       "卵        1   0   0   1   1   0\n",
       "ホウレンソウ   0   0   0   1   0   1"
      ]
     },
     "execution_count": 59,
     "metadata": {},
     "output_type": "execute_result"
    }
   ],
   "source": [
    "df = pd.DataFrame(C,columns=['d{i}'.format(i=i) for i in range(1,7)])\n",
    "df.rename(index={ i:v for i, v in enumerate(['玉ねぎ', 'きのこ', '鶏肉', '卵', 'ホウレンソウ'])})\n",
    "# let'say\n",
    "# d1 is 親子丼 d2 is 鶏肉ときのこのソテー、 d3 オニンオン野菜 \n",
    "# d4　ホウレンソウと卵の野菜炒め d5 卵焼き d6　ホウレンソウの胡麻和え"
   ]
  },
  {
   "cell_type": "code",
   "execution_count": 44,
   "metadata": {
    "collapsed": false
   },
   "outputs": [
    {
     "name": "stdout",
     "output_type": "stream",
     "text": [
      "U:\n",
      " [[ 0.44  -0.296 -0.569  0.577 -0.246]\n",
      " [ 0.129 -0.331  0.587  0.    -0.727]\n",
      " [ 0.476 -0.511  0.368  0.     0.614]\n",
      " [ 0.703  0.351 -0.155 -0.577 -0.16 ]\n",
      " [ 0.263  0.647  0.415  0.577  0.087]]\n",
      "Σ:\n",
      " [[ 2.163  0.     0.     0.     0.   ]\n",
      " [ 0.     1.594  0.     0.     0.   ]\n",
      " [ 0.     0.     1.275  0.     0.   ]\n",
      " [ 0.     0.     0.     1.     0.   ]\n",
      " [ 0.     0.     0.     0.     0.394]]\n",
      "Vt:\n",
      " [[ 0.749  0.28   0.204  0.447  0.325  0.121]\n",
      " [-0.286 -0.528 -0.186  0.626  0.22   0.406]\n",
      " [-0.28   0.749 -0.447  0.204 -0.121  0.325]\n",
      " [-0.     0.     0.577  0.    -0.577  0.577]\n",
      " [ 0.528 -0.286 -0.626 -0.186 -0.406  0.22 ]\n",
      " [ 0.    -0.    -0.    -0.577  0.577  0.577]]\n"
     ]
    }
   ],
   "source": [
    "U,D,Vt = np.linalg.svd(C)\n",
    "np.set_printoptions(3, suppress=True)\n",
    "print(\"U:\\n\", U)\n",
    "print(\"Σ:\\n\", np.diag(D))\n",
    "print(\"Vt:\\n\", Vt)\n",
    "\n"
   ]
  },
  {
   "cell_type": "markdown",
   "metadata": {},
   "source": [
    "上記のように、SVD(singular-value decomposition, 特異行列分解)をすると\n",
    "\n",
    "- U:'玉ねぎ', 'きのこ', '鶏肉', '卵', 'ホウレンソウ'を行とするクエリ行列ができ\n",
    "- Vt: 文書d1, d2...d6を列に持つ文書行列ができます。\n",
    "- Σ:特異値\n",
    "\n",
    "ここで、`Σ2`以降の対角要素は全て`0`にします。\n",
    "`Σ2×Vt`をすると、文書行列Vtの3行目以降は全て`0`になるので、\n",
    "無視できます。`Σ2`の低近似されたSVD:$C_{2} = U_{2}\\sum_{2}V_{2}^{t}$を計算すると"
   ]
  },
  {
   "cell_type": "code",
   "execution_count": 47,
   "metadata": {
    "collapsed": false
   },
   "outputs": [
    {
     "data": {
      "text/plain": [
       "array([[ 2.163,  0.   ,  0.   ,  0.   ,  0.   ],\n",
       "       [ 0.   ,  1.594,  0.   ,  0.   ,  0.   ]])"
      ]
     },
     "execution_count": 47,
     "metadata": {},
     "output_type": "execute_result"
    }
   ],
   "source": [
    "np.diag(D)[:2]"
   ]
  },
  {
   "cell_type": "code",
   "execution_count": 48,
   "metadata": {
    "collapsed": false
   },
   "outputs": [
    {
     "data": {
      "text/plain": [
       "array([[ 0.749,  0.28 ,  0.204,  0.447,  0.325,  0.121],\n",
       "       [-0.286, -0.528, -0.186,  0.626,  0.22 ,  0.406]])"
      ]
     },
     "execution_count": 48,
     "metadata": {},
     "output_type": "execute_result"
    }
   ],
   "source": [
    "Vt[:2]"
   ]
  },
  {
   "cell_type": "code",
   "execution_count": 49,
   "metadata": {
    "collapsed": false
   },
   "outputs": [
    {
     "data": {
      "text/plain": [
       "array([[ 0.44 , -0.296, -0.569,  0.577, -0.246],\n",
       "       [ 0.129, -0.331,  0.587,  0.   , -0.727]])"
      ]
     },
     "execution_count": 49,
     "metadata": {},
     "output_type": "execute_result"
    }
   ],
   "source": [
    "U[:2]"
   ]
  },
  {
   "cell_type": "code",
   "execution_count": 103,
   "metadata": {
    "collapsed": false
   },
   "outputs": [],
   "source": [
    "D2 = np.array([v if i < 2 else 0 for i,v in enumerate(D)])"
   ]
  },
  {
   "cell_type": "code",
   "execution_count": 110,
   "metadata": {
    "collapsed": false
   },
   "outputs": [
    {
     "ename": "ValueError",
     "evalue": "operands could not be broadcast together with shapes (2,5) (6,) ",
     "output_type": "error",
     "traceback": [
      "\u001b[0;31m---------------------------------------------------------------------------\u001b[0m",
      "\u001b[0;31mValueError\u001b[0m                                Traceback (most recent call last)",
      "\u001b[0;32m<ipython-input-110-dcb0d198d0c9>\u001b[0m in \u001b[0;36m<module>\u001b[0;34m()\u001b[0m\n\u001b[0;32m----> 1\u001b[0;31m \u001b[0mU\u001b[0m\u001b[0;34m[\u001b[0m\u001b[0;34m:\u001b[0m\u001b[0;36m2\u001b[0m\u001b[0;34m]\u001b[0m\u001b[0;34m*\u001b[0m\u001b[0;34m(\u001b[0m\u001b[0mD\u001b[0m\u001b[0;34m[\u001b[0m\u001b[0;34m:\u001b[0m\u001b[0;36m2\u001b[0m\u001b[0;34m]\u001b[0m\u001b[0;34m.\u001b[0m\u001b[0mdot\u001b[0m\u001b[0;34m(\u001b[0m\u001b[0mVt\u001b[0m\u001b[0;34m[\u001b[0m\u001b[0;34m:\u001b[0m\u001b[0;36m2\u001b[0m\u001b[0;34m]\u001b[0m\u001b[0;34m)\u001b[0m\u001b[0;34m)\u001b[0m\u001b[0;34m\u001b[0m\u001b[0m\n\u001b[0m",
      "\u001b[0;31mValueError\u001b[0m: operands could not be broadcast together with shapes (2,5) (6,) "
     ]
    }
   ],
   "source": [
    "U[:2]*(D[:2].dot(Vt[:2]))"
   ]
  },
  {
   "cell_type": "code",
   "execution_count": 147,
   "metadata": {
    "collapsed": false
   },
   "outputs": [
    {
     "data": {
      "text/plain": [
       "array([[ 0.848,  0.516,  0.282,  0.13 ,  0.206, -0.076],\n",
       "       [ 0.361,  0.358,  0.155, -0.206, -0.025, -0.18 ],\n",
       "       [ 1.003,  0.718,  0.361, -0.051,  0.155, -0.206],\n",
       "       [ 0.978,  0.13 ,  0.206,  1.029,  0.617,  0.411],\n",
       "       [ 0.13 , -0.386, -0.076,  0.899,  0.411,  0.487]])"
      ]
     },
     "execution_count": 147,
     "metadata": {},
     "output_type": "execute_result"
    }
   ],
   "source": [
    "(U.dot(np.diag(D2)))[:, :2].dot(Vt[:2])"
   ]
  },
  {
   "cell_type": "code",
   "execution_count": 130,
   "metadata": {
    "collapsed": false
   },
   "outputs": [
    {
     "data": {
      "text/plain": [
       "array([[ 0.952, -0.472,  0.   ,  0.   ,  0.   ],\n",
       "       [ 0.28 , -0.528,  0.   ,  0.   ,  0.   ],\n",
       "       [ 1.028, -0.815,  0.   ,  0.   ,  0.   ],\n",
       "       [ 1.52 ,  0.559,  0.   ,  0.   ,  0.   ],\n",
       "       [ 0.568,  1.031,  0.   ,  0.   ,  0.   ]])"
      ]
     },
     "execution_count": 130,
     "metadata": {},
     "output_type": "execute_result"
    }
   ],
   "source": [
    "U.dot(np.diag(D2))"
   ]
  },
  {
   "cell_type": "code",
   "execution_count": 160,
   "metadata": {
    "collapsed": false
   },
   "outputs": [
    {
     "data": {
      "text/plain": [
       "array([[ 0.848,  0.516,  0.282,  0.13 ,  0.206, -0.076],\n",
       "       [ 0.361,  0.358,  0.155, -0.206, -0.025, -0.18 ],\n",
       "       [ 1.003,  0.718,  0.361, -0.051,  0.155, -0.206],\n",
       "       [ 0.978,  0.13 ,  0.206,  1.029,  0.617,  0.411],\n",
       "       [ 0.13 , -0.386, -0.076,  0.899,  0.411,  0.487]])"
      ]
     },
     "execution_count": 160,
     "metadata": {},
     "output_type": "execute_result"
    }
   ],
   "source": [
    "C2 = np.dot(U[:,:2]*D[:2], Vt[:2])\n",
    "C2"
   ]
  },
  {
   "cell_type": "code",
   "execution_count": 165,
   "metadata": {
    "collapsed": false
   },
   "outputs": [
    {
     "data": {
      "text/plain": [
       "array([[ 0.713,  0.266,  0.194,  0.425,  0.31 ,  0.116],\n",
       "       [ 0.209,  0.078,  0.057,  0.125,  0.091,  0.034],\n",
       "       [ 0.77 ,  0.288,  0.209,  0.459,  0.334,  0.125],\n",
       "       [ 1.138,  0.425,  0.31 ,  0.679,  0.494,  0.185],\n",
       "       [ 0.425,  0.159,  0.116,  0.254,  0.185,  0.069]])"
      ]
     },
     "execution_count": 165,
     "metadata": {},
     "output_type": "execute_result"
    }
   ],
   "source": [
    "np.linalg.norm(C-C2,'fro')\n",
    "C1 = np.dot(U[:,:1]*D[:1], Vt[:1])\n",
    "C1\n"
   ]
  },
  {
   "cell_type": "code",
   "execution_count": 168,
   "metadata": {
    "collapsed": false
   },
   "outputs": [
    {
     "data": {
      "text/plain": [
       "2.3072905296136073"
      ]
     },
     "execution_count": 168,
     "metadata": {},
     "output_type": "execute_result"
    }
   ],
   "source": [
    "np.linalg.norm(C-C1, 'fro') #frobenius"
   ]
  },
  {
   "cell_type": "code",
   "execution_count": 169,
   "metadata": {
    "collapsed": true
   },
   "outputs": [],
   "source": [
    "truncated_SVD = lambda k: np.dot(U[:,:k]*D[:k], Vt[:k])"
   ]
  },
  {
   "cell_type": "code",
   "execution_count": 195,
   "metadata": {
    "collapsed": false
   },
   "outputs": [
    {
     "data": {
      "text/plain": [
       "3"
      ]
     },
     "execution_count": 195,
     "metadata": {},
     "output_type": "execute_result"
    }
   ],
   "source": [
    "np.argmin([np.linalg.norm(C-truncated_SVD(k), 'fro') for k in range(1, D.size)])"
   ]
  },
  {
   "cell_type": "code",
   "execution_count": 199,
   "metadata": {
    "collapsed": false
   },
   "outputs": [
    {
     "data": {
      "text/plain": [
       "0.39391525049455717"
      ]
     },
     "execution_count": 199,
     "metadata": {},
     "output_type": "execute_result"
    }
   ],
   "source": [
    "np.linalg.norm(C-truncated_SVD(4), 'fro')"
   ]
  },
  {
   "cell_type": "code",
   "execution_count": 204,
   "metadata": {
    "collapsed": false
   },
   "outputs": [
    {
     "data": {
      "text/plain": [
       "array([[ 0.44 , -0.296],\n",
       "       [ 0.129, -0.331],\n",
       "       [ 0.476, -0.511],\n",
       "       [ 0.703,  0.351],\n",
       "       [ 0.263,  0.647]])"
      ]
     },
     "execution_count": 204,
     "metadata": {},
     "output_type": "execute_result"
    }
   ],
   "source": [
    "U[:, :2]"
   ]
  },
  {
   "cell_type": "code",
   "execution_count": 249,
   "metadata": {
    "collapsed": false
   },
   "outputs": [
    {
     "data": {
      "text/plain": [
       "array([[ 0.749,  0.28 ,  0.204,  0.447,  0.325,  0.121],\n",
       "       [-0.286, -0.528, -0.186,  0.626,  0.22 ,  0.406]])"
      ]
     },
     "execution_count": 249,
     "metadata": {},
     "output_type": "execute_result"
    }
   ],
   "source": []
  },
  {
   "cell_type": "code",
   "execution_count": 301,
   "metadata": {
    "collapsed": false
   },
   "outputs": [
    {
     "data": {
      "image/png": "[encoded data removed]",
      "text/plain": [
       "<matplotlib.figure.Figure at 0x10eb21048>"
      ]
     },
     "metadata": {},
     "output_type": "display_data"
    }
   ],
   "source": [
    "plt.xlabel('dim1')\n",
    "plt.ylabel('dim2')\n",
    "plt.title('LSI space')\n",
    "plt.scatter(U[:,0], U[:,1], color='g', s=200, alpha=0.6)\n",
    "for i, ingredient in enumerate(['玉ねぎ', 'きのこ', '鶏肉', '卵', 'ホウレンソウ']):\n",
    "    plt.annotate(ingredient, xy=(U[i,0],U[i,1]), fontproperties=prop,size='15')\n",
    "\n",
    "plt.scatter(Vt[:2][0], Vt[:2][1], color='b', marker='x', s=200, alpha=0.6)\n",
    "for i in range(6):\n",
    "    plt.annotate(\"d{i}\".format(i=i+1), xy=(Vt[:2][0][i],Vt[:2][1][i]), fontproperties=prop,size='15')\n"
   ]
  },
  {
   "cell_type": "code",
   "execution_count": 319,
   "metadata": {
    "collapsed": false
   },
   "outputs": [],
   "source": [
    "q = np.array([1, 0, 0, 1, 1, 0]) #醤油"
   ]
  },
  {
   "cell_type": "code",
   "execution_count": 328,
   "metadata": {
    "collapsed": false
   },
   "outputs": [
    {
     "ename": "ValueError",
     "evalue": "operands could not be broadcast together with shapes (2,2) (2,5) ",
     "output_type": "error",
     "traceback": [
      "\u001b[0;31m---------------------------------------------------------------------------\u001b[0m",
      "\u001b[0;31mValueError\u001b[0m                                Traceback (most recent call last)",
      "\u001b[0;32m<ipython-input-328-5468ccdb74c9>\u001b[0m in \u001b[0;36m<module>\u001b[0;34m()\u001b[0m\n\u001b[0;32m----> 1\u001b[0;31m \u001b[0mq2\u001b[0m \u001b[0;34m=\u001b[0m \u001b[0mnp\u001b[0m\u001b[0;34m.\u001b[0m\u001b[0mdot\u001b[0m\u001b[0;34m(\u001b[0m\u001b[0mnp\u001b[0m\u001b[0;34m.\u001b[0m\u001b[0mlinalg\u001b[0m\u001b[0;34m.\u001b[0m\u001b[0minv\u001b[0m\u001b[0;34m(\u001b[0m\u001b[0mnp\u001b[0m\u001b[0;34m.\u001b[0m\u001b[0mdiag\u001b[0m\u001b[0;34m(\u001b[0m\u001b[0mD\u001b[0m\u001b[0;34m[\u001b[0m\u001b[0;34m:\u001b[0m\u001b[0;36m2\u001b[0m\u001b[0;34m]\u001b[0m\u001b[0;34m)\u001b[0m\u001b[0;34m)\u001b[0m\u001b[0;34m*\u001b[0m\u001b[0mU\u001b[0m\u001b[0;34m[\u001b[0m\u001b[0;34m:\u001b[0m\u001b[0;34m,\u001b[0m\u001b[0;34m:\u001b[0m\u001b[0;36m2\u001b[0m\u001b[0;34m]\u001b[0m\u001b[0;34m.\u001b[0m\u001b[0mT\u001b[0m\u001b[0;34m,\u001b[0m \u001b[0mq\u001b[0m\u001b[0;34m)\u001b[0m\u001b[0;34m\u001b[0m\u001b[0m\n\u001b[0m",
      "\u001b[0;31mValueError\u001b[0m: operands could not be broadcast together with shapes (2,2) (2,5) "
     ]
    }
   ],
   "source": [
    "q2 = np.dot(np.linalg.inv(np.diag(D[:2]))*U[:,:2].T, q)"
   ]
  },
  {
   "cell_type": "code",
   "execution_count": 332,
   "metadata": {
    "collapsed": false
   },
   "outputs": [
    {
     "data": {
      "text/plain": [
       "array([[ 0.204,  0.06 ,  0.22 ,  0.325,  0.121],\n",
       "       [-0.186, -0.208, -0.321,  0.22 ,  0.406]])"
      ]
     },
     "execution_count": 332,
     "metadata": {},
     "output_type": "execute_result"
    }
   ],
   "source": [
    "np.dot(np.linalg.inv(np.diag(D[:2])),U[:,:2].T)"
   ]
  },
  {
   "cell_type": "code",
   "execution_count": 170,
   "metadata": {
    "collapsed": true
   },
   "outputs": [],
   "source": [
    "from sklearn.decomposition import TruncatedSVD"
   ]
  },
  {
   "cell_type": "code",
   "execution_count": 177,
   "metadata": {
    "collapsed": true
   },
   "outputs": [],
   "source": [
    "p = TruncatedSVD(2)"
   ]
  },
  {
   "cell_type": "code",
   "execution_count": 187,
   "metadata": {
    "collapsed": false
   },
   "outputs": [
    {
     "data": {
      "text/plain": [
       "TruncatedSVD(algorithm='randomized', n_components=2, n_iter=5,\n",
       "       random_state=None, tol=0.0)"
      ]
     },
     "execution_count": 187,
     "metadata": {},
     "output_type": "execute_result"
    }
   ],
   "source": [
    "p.fit(C)"
   ]
  },
  {
   "cell_type": "code",
   "execution_count": null,
   "metadata": {
    "collapsed": false
   },
   "outputs": [],
   "source": []
  },
  {
   "cell_type": "code",
   "execution_count": 139,
   "metadata": {
    "collapsed": false
   },
   "outputs": [],
   "source": [
    "A = np.array([\n",
    "    [1, -1],\n",
    "    [0, 1],\n",
    "    [1, 0]\n",
    "])"
   ]
  },
  {
   "cell_type": "code",
   "execution_count": 140,
   "metadata": {
    "collapsed": false
   },
   "outputs": [
    {
     "data": {
      "text/plain": [
       "(array([[-0.816,  0.   , -0.577],\n",
       "        [ 0.408, -0.707, -0.577],\n",
       "        [-0.408, -0.707,  0.577]]),\n",
       " array([ 1.732,  1.   ]),\n",
       " array([[-0.707,  0.707],\n",
       "        [-0.707, -0.707]]))"
      ]
     },
     "execution_count": 140,
     "metadata": {},
     "output_type": "execute_result"
    }
   ],
   "source": [
    "np.linalg.svd(A)"
   ]
  },
  {
   "cell_type": "code",
   "execution_count": null,
   "metadata": {
    "collapsed": true
   },
   "outputs": [],
   "source": []
  }
 ],
 "metadata": {
  "kernelspec": {
   "display_name": "Python 3",
   "language": "python",
   "name": "python3"
  },
  "language_info": {
   "codemirror_mode": {
    "name": "ipython",
    "version": 3
   },
   "file_extension": ".py",
   "mimetype": "text/x-python",
   "name": "python",
   "nbconvert_exporter": "python",
   "pygments_lexer": "ipython3",
   "version": "3.4.3"
  }
 },
 "nbformat": 4,
 "nbformat_minor": 0
}
