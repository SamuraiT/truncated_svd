{
 "cells": [
  {
   "cell_type": "markdown",
   "metadata": {},
   "source": [
    "# Latent Semantic Indexing  (潜在意味インデクシング)"
   ]
  },
  {
   "cell_type": "markdown",
   "metadata": {},
   "source": [
    "単語文章行列`C`を、SVDを用いて小さい階数の行列で近似する。\n",
    "クエリも同様に定数表現に書き換えることにより文章の類似度が計算可能となる。\n",
    "この処理はLSIといsて知られている。"
   ]
  },
  {
   "cell_type": "code",
   "execution_count": 219,
   "metadata": {
    "collapsed": true
   },
   "outputs": [],
   "source": [
    "import numpy as np\n",
    "import scipy\n",
    "import pandas as pd\n",
    "import matplotlib.pyplot as plt\n",
    "from matplotlib import font_manager\n",
    "%matplotlib inline"
   ]
  },
  {
   "cell_type": "code",
   "execution_count": 230,
   "metadata": {
    "collapsed": true
   },
   "outputs": [],
   "source": [
    "font = \"/Library/Fonts/OsakaMono.ttf\"\n",
    "# http://ossipedia.ipa.go.jp/ipafont/index.html\n",
    "prop = font_manager.FontProperties(fname=font)\n"
   ]
  },
  {
   "cell_type": "code",
   "execution_count": null,
   "metadata": {
    "collapsed": true
   },
   "outputs": [],
   "source": []
  },
  {
   "cell_type": "code",
   "execution_count": 34,
   "metadata": {
    "collapsed": true
   },
   "outputs": [],
   "source": [
    "C = np.array([\n",
    "    [1, 0, 1, 0, 0, 0],\n",
    "    [0, 1, 0, 0, 0, 0],\n",
    "    [1, 1, 0, 0, 0, 0],\n",
    "    [1, 0, 0, 1, 1, 0],\n",
    "    [0, 0, 0, 1, 0, 1]\n",
    "])\n"
   ]
  },
  {
   "cell_type": "code",
   "execution_count": 442,
   "metadata": {
    "collapsed": false
   },
   "outputs": [
    {
     "data": {
      "text/html": [
       "<div>\n",
       "<table border=\"1\" class=\"dataframe\">\n",
       "  <thead>\n",
       "    <tr style=\"text-align: right;\">\n",
       "      <th></th>\n",
       "      <th>親子丼</th>\n",
       "      <th>鶏肉ときのこのソテー</th>\n",
       "      <th>丸ごと玉ねぎ</th>\n",
       "      <th>ホウレンソウと卵の炒めもの</th>\n",
       "      <th>卵焼き</th>\n",
       "      <th>ホウレンソウの胡麻和え</th>\n",
       "    </tr>\n",
       "  </thead>\n",
       "  <tbody>\n",
       "    <tr>\n",
       "      <th>玉ねぎ</th>\n",
       "      <td>1</td>\n",
       "      <td>0</td>\n",
       "      <td>1</td>\n",
       "      <td>0</td>\n",
       "      <td>0</td>\n",
       "      <td>0</td>\n",
       "    </tr>\n",
       "    <tr>\n",
       "      <th>きのこ</th>\n",
       "      <td>0</td>\n",
       "      <td>1</td>\n",
       "      <td>0</td>\n",
       "      <td>0</td>\n",
       "      <td>0</td>\n",
       "      <td>0</td>\n",
       "    </tr>\n",
       "    <tr>\n",
       "      <th>鶏肉</th>\n",
       "      <td>1</td>\n",
       "      <td>1</td>\n",
       "      <td>0</td>\n",
       "      <td>0</td>\n",
       "      <td>0</td>\n",
       "      <td>0</td>\n",
       "    </tr>\n",
       "    <tr>\n",
       "      <th>卵</th>\n",
       "      <td>1</td>\n",
       "      <td>0</td>\n",
       "      <td>0</td>\n",
       "      <td>1</td>\n",
       "      <td>1</td>\n",
       "      <td>0</td>\n",
       "    </tr>\n",
       "    <tr>\n",
       "      <th>ホウレンソウ</th>\n",
       "      <td>0</td>\n",
       "      <td>0</td>\n",
       "      <td>0</td>\n",
       "      <td>1</td>\n",
       "      <td>0</td>\n",
       "      <td>1</td>\n",
       "    </tr>\n",
       "  </tbody>\n",
       "</table>\n",
       "</div>"
      ],
      "text/plain": [
       "        親子丼  鶏肉ときのこのソテー  丸ごと玉ねぎ  ホウレンソウと卵の炒めもの  卵焼き  ホウレンソウの胡麻和え\n",
       "玉ねぎ       1           0       1              0    0            0\n",
       "きのこ       0           1       0              0    0            0\n",
       "鶏肉        1           1       0              0    0            0\n",
       "卵         1           0       0              1    1            0\n",
       "ホウレンソウ    0           0       0              1    0            1"
      ]
     },
     "execution_count": 442,
     "metadata": {},
     "output_type": "execute_result"
    }
   ],
   "source": [
    "recipes = ['親子丼','鶏肉ときのこのソテー', '丸ごと玉ねぎ', 'ホウレンソウと卵の炒めもの','卵焼き','ホウレンソウの胡麻和え']\n",
    "ingredients = ['玉ねぎ', 'きのこ', '鶏肉', '卵', 'ホウレンソウ']\n",
    "df = pd.DataFrame(C,columns=recipes)\n",
    "#                  columns=['d{i}'.format(i=i) for i in range(1,7)])\n",
    "df.rename(index={ i:v for i, v in enumerate(ingredients)})"
   ]
  },
  {
   "cell_type": "markdown",
   "metadata": {},
   "source": [
    "表1 材料とレシピの行列\n",
    "\n",
    "表1,の$d_{1}~d_{6}$はそれぞれ、以下のレシピを表すとする\n",
    "['親子丼','鶏肉ときのこのソテー', '丸ごと玉ねぎ', 'ホウレンソウと卵の炒めもの','卵焼き','ホウレンソウの胡麻和え']"
   ]
  },
  {
   "cell_type": "code",
   "execution_count": 44,
   "metadata": {
    "collapsed": false
   },
   "outputs": [
    {
     "name": "stdout",
     "output_type": "stream",
     "text": [
      "U:\n",
      " [[ 0.44  -0.296 -0.569  0.577 -0.246]\n",
      " [ 0.129 -0.331  0.587  0.    -0.727]\n",
      " [ 0.476 -0.511  0.368  0.     0.614]\n",
      " [ 0.703  0.351 -0.155 -0.577 -0.16 ]\n",
      " [ 0.263  0.647  0.415  0.577  0.087]]\n",
      "Σ:\n",
      " [[ 2.163  0.     0.     0.     0.   ]\n",
      " [ 0.     1.594  0.     0.     0.   ]\n",
      " [ 0.     0.     1.275  0.     0.   ]\n",
      " [ 0.     0.     0.     1.     0.   ]\n",
      " [ 0.     0.     0.     0.     0.394]]\n",
      "Vt:\n",
      " [[ 0.749  0.28   0.204  0.447  0.325  0.121]\n",
      " [-0.286 -0.528 -0.186  0.626  0.22   0.406]\n",
      " [-0.28   0.749 -0.447  0.204 -0.121  0.325]\n",
      " [-0.     0.     0.577  0.    -0.577  0.577]\n",
      " [ 0.528 -0.286 -0.626 -0.186 -0.406  0.22 ]\n",
      " [ 0.    -0.    -0.    -0.577  0.577  0.577]]\n"
     ]
    }
   ],
   "source": [
    "U,D,Vt = np.linalg.svd(C)\n",
    "np.set_printoptions(3, suppress=True)\n",
    "print(\"U:\\n\", U)\n",
    "print(\"Σ:\\n\", np.diag(D))\n",
    "print(\"Vt:\\n\", Vt)\n",
    "\n"
   ]
  },
  {
   "cell_type": "markdown",
   "metadata": {},
   "source": [
    "上記のように、SVD(singular-value decomposition, 特異行列分解)をすると\n",
    "\n",
    "- U: **'玉ねぎ', 'きのこ', '鶏肉', '卵', 'ホウレンソウ'** (食材)を行とするクエリ行列ができ\n",
    "- Vt: **'親子丼','鶏肉ときのこのソテー', '丸ごと玉ねぎ', 'ホウレンソウと卵の炒めもの','卵焼き','ホウレンソウの胡麻和え'** レシピを列に持つレシピ行列ができます。\n",
    "- Σ:特異値\n",
    "\n",
    "ここで、`Σ2`以降の対角要素は全て`0`にします。\n",
    "`Σ2×Vt`をすると、レシピ行列Vtの3行目以降は全て`0`になるので、\n",
    "無視できます。`Σ2`の低近似されたSVD(truncated SVD) \n",
    "\n",
    "$C_{2} = U_{2}\\sum_{2}V_{2}^{t}$\n",
    "\n",
    "を計算すると"
   ]
  },
  {
   "cell_type": "code",
   "execution_count": 47,
   "metadata": {
    "collapsed": false
   },
   "outputs": [
    {
     "data": {
      "text/plain": [
       "array([[ 2.163,  0.   ,  0.   ,  0.   ,  0.   ],\n",
       "       [ 0.   ,  1.594,  0.   ,  0.   ,  0.   ]])"
      ]
     },
     "execution_count": 47,
     "metadata": {},
     "output_type": "execute_result"
    }
   ],
   "source": [
    "np.diag(D)[:2]"
   ]
  },
  {
   "cell_type": "code",
   "execution_count": 48,
   "metadata": {
    "collapsed": false
   },
   "outputs": [
    {
     "data": {
      "text/plain": [
       "array([[ 0.749,  0.28 ,  0.204,  0.447,  0.325,  0.121],\n",
       "       [-0.286, -0.528, -0.186,  0.626,  0.22 ,  0.406]])"
      ]
     },
     "execution_count": 48,
     "metadata": {},
     "output_type": "execute_result"
    }
   ],
   "source": [
    "Vt[:2]"
   ]
  },
  {
   "cell_type": "code",
   "execution_count": 49,
   "metadata": {
    "collapsed": false
   },
   "outputs": [
    {
     "data": {
      "text/plain": [
       "array([[ 0.44 , -0.296, -0.569,  0.577, -0.246],\n",
       "       [ 0.129, -0.331,  0.587,  0.   , -0.727]])"
      ]
     },
     "execution_count": 49,
     "metadata": {},
     "output_type": "execute_result"
    }
   ],
   "source": [
    "U[:2]"
   ]
  },
  {
   "cell_type": "code",
   "execution_count": 103,
   "metadata": {
    "collapsed": false
   },
   "outputs": [],
   "source": [
    "D2 = np.array([v if i < 2 else 0 for i,v in enumerate(D)])"
   ]
  },
  {
   "cell_type": "code",
   "execution_count": 130,
   "metadata": {
    "collapsed": false
   },
   "outputs": [
    {
     "data": {
      "text/plain": [
       "array([[ 0.952, -0.472,  0.   ,  0.   ,  0.   ],\n",
       "       [ 0.28 , -0.528,  0.   ,  0.   ,  0.   ],\n",
       "       [ 1.028, -0.815,  0.   ,  0.   ,  0.   ],\n",
       "       [ 1.52 ,  0.559,  0.   ,  0.   ,  0.   ],\n",
       "       [ 0.568,  1.031,  0.   ,  0.   ,  0.   ]])"
      ]
     },
     "execution_count": 130,
     "metadata": {},
     "output_type": "execute_result"
    }
   ],
   "source": [
    "U.dot(np.diag(D2))"
   ]
  },
  {
   "cell_type": "code",
   "execution_count": 160,
   "metadata": {
    "collapsed": false
   },
   "outputs": [
    {
     "data": {
      "text/plain": [
       "array([[ 0.848,  0.516,  0.282,  0.13 ,  0.206, -0.076],\n",
       "       [ 0.361,  0.358,  0.155, -0.206, -0.025, -0.18 ],\n",
       "       [ 1.003,  0.718,  0.361, -0.051,  0.155, -0.206],\n",
       "       [ 0.978,  0.13 ,  0.206,  1.029,  0.617,  0.411],\n",
       "       [ 0.13 , -0.386, -0.076,  0.899,  0.411,  0.487]])"
      ]
     },
     "execution_count": 160,
     "metadata": {},
     "output_type": "execute_result"
    }
   ],
   "source": [
    "C2 = np.dot(U[:,:2]*D[:2], Vt[:2])\n",
    "C2"
   ]
  },
  {
   "cell_type": "markdown",
   "metadata": {},
   "source": [
    "上記のような、近似された行列$C$,\n",
    "\n",
    "$\\widetilde{C_{2}} \\approx C $を得られる"
   ]
  },
  {
   "cell_type": "code",
   "execution_count": 478,
   "metadata": {
    "collapsed": false
   },
   "outputs": [
    {
     "data": {
      "text/plain": [
       "1.6677932876555253"
      ]
     },
     "execution_count": 478,
     "metadata": {},
     "output_type": "execute_result"
    }
   ],
   "source": [
    "np.linalg.norm(C-C2,'fro') #frobeniusによる精度"
   ]
  },
  {
   "cell_type": "code",
   "execution_count": 479,
   "metadata": {
    "collapsed": false
   },
   "outputs": [
    {
     "data": {
      "text/plain": [
       "2.3072905296136073"
      ]
     },
     "execution_count": 479,
     "metadata": {},
     "output_type": "execute_result"
    }
   ],
   "source": [
    "C1 = np.dot(U[:,:1]*D[:1], Vt[:1])\n",
    "np.linalg.norm(C-C1, 'fro') #frobenius"
   ]
  },
  {
   "cell_type": "code",
   "execution_count": 169,
   "metadata": {
    "collapsed": true
   },
   "outputs": [],
   "source": [
    "truncated_SVD = lambda k: np.dot(U[:,:k]*D[:k], Vt[:k])"
   ]
  },
  {
   "cell_type": "code",
   "execution_count": 195,
   "metadata": {
    "collapsed": false
   },
   "outputs": [
    {
     "data": {
      "text/plain": [
       "3"
      ]
     },
     "execution_count": 195,
     "metadata": {},
     "output_type": "execute_result"
    }
   ],
   "source": [
    "np.argmin([np.linalg.norm(C-truncated_SVD(k), 'fro') for k in range(1, D.size)])"
   ]
  },
  {
   "cell_type": "code",
   "execution_count": 199,
   "metadata": {
    "collapsed": false
   },
   "outputs": [
    {
     "data": {
      "text/plain": [
       "0.39391525049455717"
      ]
     },
     "execution_count": 199,
     "metadata": {},
     "output_type": "execute_result"
    }
   ],
   "source": [
    "np.linalg.norm(C-truncated_SVD(4), 'fro')"
   ]
  },
  {
   "cell_type": "code",
   "execution_count": 204,
   "metadata": {
    "collapsed": false
   },
   "outputs": [
    {
     "data": {
      "text/plain": [
       "array([[ 0.44 , -0.296],\n",
       "       [ 0.129, -0.331],\n",
       "       [ 0.476, -0.511],\n",
       "       [ 0.703,  0.351],\n",
       "       [ 0.263,  0.647]])"
      ]
     },
     "execution_count": 204,
     "metadata": {},
     "output_type": "execute_result"
    }
   ],
   "source": [
    "U[:, :2]"
   ]
  },
  {
   "cell_type": "code",
   "execution_count": 474,
   "metadata": {
    "collapsed": false
   },
   "outputs": [
    {
     "data": {
      "image/png": "[encoded data removed]",
      "text/plain": [
       "<matplotlib.figure.Figure at 0x10e2b4898>"
      ]
     },
     "metadata": {},
     "output_type": "display_data"
    }
   ],
   "source": [
    "plt.figure(figsize=(10,10))\n",
    "plt.xlabel('dim1')\n",
    "plt.ylabel('dim2')\n",
    "plt.title('LSI space')\n",
    "plt.scatter(U[:,0], U[:,1], color='y', marker='o', s=300, alpha=0.6)\n",
    "for i, ingredient in enumerate(ingredients):\n",
    "    plt.annotate(ingredient, xy=(U[i,0],U[i,1]), fontproperties=prop,size='15')\n",
    "\n",
    "plt.scatter(Vt[:2][0], Vt[:2][1], color='m', marker='*', s=500, alpha=0.6)\n",
    "for i, recipe in enumerate(recipes):\n",
    "    plt.annotate(recipe, xy=(Vt[:2][0][i],Vt[:2][1][i]), fontproperties=prop,size='15')\n"
   ]
  },
  {
   "cell_type": "markdown",
   "metadata": {},
   "source": [
    "近似された$C_{2}$を使うことによって、次元削減をすることにより\n",
    "2次元空間に写像できるようになった。\n",
    "\n",
    "次元が削減できたことにより、類似度の計算量が減る。</br>\n",
    "次に、以下のクエリq: きのこ、鶏肉、卵で検索されたとする。\n",
    "\n",
    "$q = (0, 1, 1, 1, 0)^T $\n",
    "\n",
    "どんなレシピを出すのが最適か?"
   ]
  },
  {
   "cell_type": "markdown",
   "metadata": {},
   "source": [
    "2D空間でqueryベクトルを計算\n",
    "\n",
    "$q_k = q^TU_{k}\\sum_{k}^{-1}$"
   ]
  },
  {
   "cell_type": "code",
   "execution_count": 401,
   "metadata": {
    "collapsed": false
   },
   "outputs": [],
   "source": [
    "q = np.array([0, 1, 1, 1, 0]) #きのこ、鶏肉、卵を使った料理"
   ]
  },
  {
   "cell_type": "code",
   "execution_count": 402,
   "metadata": {
    "collapsed": false
   },
   "outputs": [
    {
     "data": {
      "text/plain": [
       "array([[ 0.462,  0.   ],\n",
       "       [ 0.   ,  0.627]])"
      ]
     },
     "execution_count": 402,
     "metadata": {},
     "output_type": "execute_result"
    }
   ],
   "source": [
    "D2_inv = np.linalg.inv(np.diag(D[:2]))\n",
    "D2_inv"
   ]
  },
  {
   "cell_type": "code",
   "execution_count": 403,
   "metadata": {
    "collapsed": false
   },
   "outputs": [
    {
     "data": {
      "text/plain": [
       "array([ 0.605, -0.309])"
      ]
     },
     "execution_count": 403,
     "metadata": {},
     "output_type": "execute_result"
    }
   ],
   "source": [
    "q2 = np.dot(q, U[:,:2].dot(D2_inv))\n",
    "q2"
   ]
  },
  {
   "cell_type": "markdown",
   "metadata": {},
   "source": [
    "上記でqを2次元空間に写像したベクトルを得る。\n",
    "これを、図にマップすると"
   ]
  },
  {
   "cell_type": "code",
   "execution_count": 484,
   "metadata": {
    "collapsed": false
   },
   "outputs": [
    {
     "data": {
      "text/plain": [
       "<matplotlib.text.Annotation at 0x10eed8550>"
      ]
     },
     "execution_count": 484,
     "metadata": {},
     "output_type": "execute_result"
    },
    {
     "data": {
      "image/png": "[encoded data removed]",
      "text/plain": [
       "<matplotlib.figure.Figure at 0x10f081fd0>"
      ]
     },
     "metadata": {},
     "output_type": "display_data"
    }
   ],
   "source": [
    "plt.figure(figsize=(10,10))\n",
    "plt.xlabel('dim1')\n",
    "plt.ylabel('dim2')\n",
    "plt.title('LSI space')\n",
    "plt.scatter(U[:,0], U[:,1], color='y', marker='o', s=300, alpha=0.6)\n",
    "for i, ingredient in enumerate(ingredients):\n",
    "    plt.annotate(ingredient, xy=(U[i,0],U[i,1]), fontproperties=prop,size='15')\n",
    "\n",
    "plt.scatter(Vt[:2][0], Vt[:2][1], color='m', marker='*', s=500, alpha=0.6)\n",
    "for i, recipe in enumerate(recipes):\n",
    "    plt.annotate(recipe, xy=(Vt[:2][0][i],Vt[:2][1][i]), fontproperties=prop,size='15')\n",
    "\n",
    "plt.scatter(*q2, s=300, alpha=0.6, color='m')\n",
    "plt.annotate('q', xy=(q2[0],q2[1]), size='20')\n"
   ]
  },
  {
   "cell_type": "markdown",
   "metadata": {},
   "source": [
    "新しいクエリqは, 親子丼に一番近そうに見える。\n",
    "ここで、全てのレシピに対して $cosin$類似度を算出してみる。\n"
   ]
  },
  {
   "cell_type": "code",
   "execution_count": 487,
   "metadata": {
    "collapsed": true
   },
   "outputs": [],
   "source": [
    "cosin = scipy.spatial.distance.cosine"
   ]
  },
  {
   "cell_type": "code",
   "execution_count": 488,
   "metadata": {
    "collapsed": false
   },
   "outputs": [
    {
     "data": {
      "text/plain": [
       "[(0.0056477105174975728, '親子丼'),\n",
       " (0.035634379966100527, '丸ごと玉ねぎ'),\n",
       " (0.18161668681247489, '鶏肉ときのこのソテー'),\n",
       " (0.51677502397478592, '卵焼き'),\n",
       " (0.85232680396680982, 'ホウレンソウと卵の炒めもの'),\n",
       " (1.1798513530660295, 'ホウレンソウの胡麻和え')]"
      ]
     },
     "execution_count": 488,
     "metadata": {},
     "output_type": "execute_result"
    }
   ],
   "source": [
    "cosine_similarity = [(cosin(q2,Vt[:2,i]),recipes[i]) for i in range(Vt[:2].shape[1])] \n",
    "# where vt[:2, i] is document i (i=1..6)\n",
    "sorted(cosine_similarity)\n",
    "    \n",
    "    "
   ]
  },
  {
   "cell_type": "markdown",
   "metadata": {},
   "source": [
    "図からも明らかのように、親子丼が一番近い。\n",
    "よって、クエリqには親子丼を推薦するのが良い。"
   ]
  },
  {
   "cell_type": "code",
   "execution_count": null,
   "metadata": {
    "collapsed": true
   },
   "outputs": [],
   "source": []
  }
 ],
 "metadata": {
  "kernelspec": {
   "display_name": "Python 3",
   "language": "python",
   "name": "python3"
  },
  "language_info": {
   "codemirror_mode": {
    "name": "ipython",
    "version": 3
   },
   "file_extension": ".py",
   "mimetype": "text/x-python",
   "name": "python",
   "nbconvert_exporter": "python",
   "pygments_lexer": "ipython3",
   "version": "3.4.3"
  }
 },
 "nbformat": 4,
 "nbformat_minor": 0
}
